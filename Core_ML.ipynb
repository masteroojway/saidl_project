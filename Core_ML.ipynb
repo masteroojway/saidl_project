{
  "cells": [
    {
      "cell_type": "markdown",
      "metadata": {
        "id": "view-in-github",
        "colab_type": "text"
      },
      "source": [
        "<a href=\"https://colab.research.google.com/github/masteroojway/saidl_project/blob/main/Core_ML.ipynb\" target=\"_parent\"><img src=\"https://colab.research.google.com/assets/colab-badge.svg\" alt=\"Open In Colab\"/></a>"
      ]
    },
    {
      "cell_type": "code",
      "execution_count": null,
      "metadata": {
        "id": "tHjGrk8t8Mbc"
      },
      "outputs": [],
      "source": [
        "#importing libraries\n",
        "import numpy as np\n",
        "import torch\n",
        "import torch.nn as nn #for model layers\n",
        "import torch.nn.functional as F  # Import functional API\n",
        "\n",
        "import torchvision.ops as ops\n",
        "import torch.optim as optim\n",
        "from torchvision import datasets, transforms\n",
        "from torch.utils.data import DataLoader\n",
        "from torchvision.transforms import ToTensor\n",
        "import matplotlib.pyplot as plt"
      ]
    },
    {
      "cell_type": "code",
      "execution_count": null,
      "metadata": {
        "id": "9MHwi9B17Odh"
      },
      "outputs": [],
      "source": [
        "#Data preperation by modifying CIFAR-10\n",
        "def data_prep():\n",
        "    transform = transforms.Compose([transforms.ToTensor()])\n",
        "    train_dataset = datasets.CIFAR10(root='./data', train=True, download=True, transform=transform)\n",
        "    train_loader = DataLoader(train_dataset, batch_size=1000, shuffle=True)\n",
        "\n",
        "    test_dataset = datasets.CIFAR10(root='./data', train=False, download=True, transform=transform)\n",
        "    test_loader = DataLoader(test_dataset, batch_size=1000, shuffle= False)\n",
        "\n",
        "    # Extract labels as a tensor\n",
        "    train_labels = torch.tensor(train_dataset.targets)\n",
        "    test_labels = torch.tensor(test_dataset.targets)\n",
        "    return train_loader, test_loader, train_labels, test_labels,train_dataset"
      ]
    },
    {
      "cell_type": "code",
      "execution_count": null,
      "metadata": {
        "id": "JMZ7M9YCJyqU"
      },
      "outputs": [],
      "source": [
        "def add_symmetric_noise(labels, noise_rate=0.4):\n",
        "    num_classes = 10\n",
        "    noisy_labels = labels.clone()\n",
        "\n",
        "    for class_id in range(num_classes):\n",
        "        class_indices = (labels == class_id).nonzero(as_tuple=True)[0]\n",
        "        num_class_samples = len(class_indices)\n",
        "\n",
        "        # Number of samples to flip\n",
        "        n = int(num_class_samples * noise_rate)\n",
        "\n",
        "        # Randomly choose 'n' indices to flip\n",
        "        noisy_indices = np.random.choice(class_indices.numpy(), n, replace=False)\n",
        "\n",
        "        for idx in noisy_indices:\n",
        "            # Flip label to a random class, excluding the current class\n",
        "            new_label = np.random.choice([i for i in range(num_classes) if i != class_id])\n",
        "            noisy_labels[idx] = new_label\n",
        "\n",
        "    return noisy_labels"
      ]
    },
    {
      "cell_type": "code",
      "execution_count": null,
      "metadata": {
        "id": "6GM0K-ovKq1r"
      },
      "outputs": [],
      "source": [
        "class CNN(nn.Module):\n",
        "    def __init__(self):\n",
        "        super().__init__()\n",
        "        self.conv1 = nn.Conv2d(3, 16, kernel_size=3, padding=1)  # 3 → 16 channels\n",
        "        self.conv2 = nn.Conv2d(16, 32, kernel_size=3, padding=1)  # 16 → 32 channels\n",
        "\n",
        "        self.fc1 = nn.Linear(32 * 8 * 8, 64)  # Reduced FC layer\n",
        "        self.fc2 = nn.Linear(64, 10)  # Output layer\n",
        "\n",
        "    def forward(self, x):\n",
        "        x = torch.relu(self.conv1(x))\n",
        "        x = torch.max_pool2d(x, 2)  #downsample (32x32 - 16x16)\n",
        "        x = torch.relu(self.conv2(x))\n",
        "        x = torch.max_pool2d(x, 2)  #downsample (16x16 - 8x8)\n",
        "        x = x.view(x.size(0), -1)\n",
        "        x = torch.relu(self.fc1(x))\n",
        "        x = self.fc2(x)\n",
        "\n",
        "        return x\n"
      ]
    },
    {
      "cell_type": "code",
      "execution_count": null,
      "metadata": {
        "id": "mEhLJOQRcFfc"
      },
      "outputs": [],
      "source": [
        "class FocalLoss(nn.Module):\n",
        "    def __init__(self, gamma=2.0):\n",
        "        super(FocalLoss, self).__init__()\n",
        "        self.gamma = gamma\n",
        "\n",
        "    def forward(self, logits, targets):\n",
        "        probs = torch.softmax(logits, dim=1)  # Convert logits to probabilities\n",
        "        probs_with_target = probs[torch.arange(len(probs)), targets]  # Extract true class probabilities\n",
        "        focal_weight = (1 - probs_with_target) ** self.gamma  # Compute focal weight\n",
        "        loss = -focal_weight * torch.log(probs_with_target + 1e-9)  # Apply Focal Loss formula\n",
        "        return loss.mean()\n"
      ]
    },
    {
      "cell_type": "code",
      "execution_count": null,
      "metadata": {
        "id": "b64xWJDJChvQ"
      },
      "outputs": [],
      "source": [
        "class ReverseCrossEntropy(nn.Module):\n",
        "    def __init__(self, num_classes = 10, scale=1.0):\n",
        "        super(ReverseCrossEntropy, self).__init__()\n",
        "        self.num_classes = num_classes\n",
        "        self.scale = scale\n",
        "\n",
        "    def forward(self, pred, target):\n",
        "        pred = torch.softmax(pred, dim=1)  # Convert logits to probabilities\n",
        "        # Convert targets to one-hot encoding\n",
        "        target_onehot = F.one_hot(target, num_classes=self.num_classes).float()\n",
        "        # Reverse CE: target * log(pred)\n",
        "        rce_loss = -torch.sum(target_onehot * torch.log(pred + 1e-10)) / pred.size(0)\n",
        "        return self.scale * rce_loss"
      ]
    },
    {
      "cell_type": "code",
      "execution_count": null,
      "metadata": {
        "id": "A1psuVxAwA_J"
      },
      "outputs": [],
      "source": [
        "class NormalizedCrossEntropy(nn.Module):\n",
        "    def __init__(self, tuning_parameter=0.7):\n",
        "        super(NormalizedCrossEntropy, self).__init__()\n",
        "        self.tuning_parameter = tuning_parameter\n",
        "\n",
        "    def forward(self, logits, targets):\n",
        "        probs = torch.softmax(logits, dim=1)  # Convert logits to probabilities\n",
        "        probs_with_target = probs[torch.arange(len(probs)), targets]  # Select true class probabilities\n",
        "        loss = (1 - probs_with_target**self.tuning_parameter) / self.tuning_parameter  # Apply NCE formula\n",
        "        return loss.mean()"
      ]
    },
    {
      "cell_type": "code",
      "execution_count": null,
      "metadata": {
        "id": "5lJxw1qvwh9z"
      },
      "outputs": [],
      "source": [
        "class NormalizedFocalLoss(nn.Module):\n",
        "    def __init__(self, gamma=2.0, tuning_parameter=0.7):\n",
        "        super(NormalizedFocalLoss, self).__init__()\n",
        "        self.gamma = gamma  # Focusing parameter\n",
        "        self.tuning_parameter = tuning_parameter  # Normalization parameter\n",
        "\n",
        "    def forward(self, logits, targets):\n",
        "        probs = torch.softmax(logits, dim=1)  # Convert logits to probabilities\n",
        "        probs_with_target = probs[torch.arange(len(probs)), targets]  # Select true class probabilities\n",
        "        probs_with_target = probs_with_target.clamp(min=1e-6, max=1.0)  # Avoid zero probabilities\n",
        "        loss = ((1 - probs_with_target**self.tuning_parameter) / self.tuning_parameter)*((1 - probs_with_target) ** self.gamma)  # Normalization term\n",
        "        return loss.mean()"
      ]
    },
    {
      "cell_type": "code",
      "execution_count": null,
      "metadata": {
        "id": "J9hpgroVvHXG"
      },
      "outputs": [],
      "source": [
        "train_loader, test_loader,train_labels, test_labels,train_dataset = data_prep()\n",
        "noisy_labels = add_symmetric_noise(train_labels, noise_rate=0.8) #adjust noise rate here\n",
        "noisy_train_dataset = [(data, noisy_label) for (data, _), noisy_label in zip(train_dataset, noisy_labels)]\n",
        "noisy_train_loader = DataLoader(noisy_train_dataset, batch_size=1000, shuffle=True)\n",
        "model = CNN() #NCE\n",
        "model1 = CNN() #NFL\n",
        "model2 = CNN() #NCE + RCE\n",
        "model3 = CNN() #CE\n",
        "model4 = CNN() #FL\n",
        "#adjust tuning parameter and gamma from here\n",
        "\n",
        "loss1 = NormalizedCrossEntropy(tuning_parameter=0.7)\n",
        "loss2 = NormalizedFocalLoss(gamma=2.0, tuning_parameter=0.7)\n",
        "loss3 = nn.CrossEntropyLoss()\n",
        "loss4 = FocalLoss(gamma=2.0)\n",
        "loss5 = ReverseCrossEntropy()\n",
        "# standard Adam optimizer for all models\n",
        "optimizer = optim.Adam(model.parameters(), lr=0.003) #NCE\n",
        "optimizer1 = optim.Adam(model1.parameters(), lr=0.003) #NFL\n",
        "optimizer2 = optim.Adam(model2.parameters(), lr=0.003) #NCE + RCE\n",
        "optimizer3 = optim.Adam(model3.parameters(), lr=0.003) #CE\n",
        "optimizer4 = optim.Adam(model4.parameters(), lr=0.003) #FL\n"
      ]
    },
    {
      "cell_type": "code",
      "execution_count": null,
      "metadata": {
        "colab": {
          "base_uri": "https://localhost:8080/"
        },
        "id": "FLgx2eIPQCPP",
        "outputId": "a6ec36a8-7858-4490-e958-00c3e337cfc2"
      },
      "outputs": [
        {
          "output_type": "stream",
          "name": "stdout",
          "text": [
            "Epoch [1/10], Loss: 2.3026\n",
            "Epoch [2/10], Loss: 2.3011\n",
            "Epoch [3/10], Loss: 2.2993\n",
            "Epoch [4/10], Loss: 2.2982\n",
            "Epoch [5/10], Loss: 2.2969\n",
            "Epoch [6/10], Loss: 2.2954\n",
            "Epoch [7/10], Loss: 2.2924\n",
            "Epoch [8/10], Loss: 2.2891\n",
            "Epoch [9/10], Loss: 2.2857\n",
            "Epoch [10/10], Loss: 2.2813\n"
          ]
        }
      ],
      "source": [
        "#vanilla Cross entropy loss function\n",
        "for epochs in range(10):\n",
        "  model3.train()\n",
        "  total_loss = 0\n",
        "  for batch_idx, (inputs, target) in enumerate(noisy_train_loader):\n",
        "    optimizer3.zero_grad()\n",
        "    output = model3(inputs)\n",
        "    loss = loss3(output, target)\n",
        "    loss.backward()  # Corrected from 'backwards' to 'backward'\n",
        "    optimizer3.step()\n",
        "    total_loss += loss.item()\n",
        "  print(f\"Epoch [{epochs+1}/10], Loss: {total_loss/len(noisy_train_loader):.4f}\")"
      ]
    },
    {
      "cell_type": "code",
      "execution_count": null,
      "metadata": {
        "colab": {
          "base_uri": "https://localhost:8080/"
        },
        "id": "AdaqZiyyZZaO",
        "outputId": "ae471ab0-a350-4cba-e555-c036881a639c"
      },
      "outputs": [
        {
          "output_type": "stream",
          "name": "stdout",
          "text": [
            "Epoch [1/10], Loss: 1.8658\n",
            "Epoch [2/10], Loss: 1.8621\n",
            "Epoch [3/10], Loss: 1.8594\n",
            "Epoch [4/10], Loss: 1.8570\n",
            "Epoch [5/10], Loss: 1.8546\n",
            "Epoch [6/10], Loss: 1.8513\n",
            "Epoch [7/10], Loss: 1.8477\n",
            "Epoch [8/10], Loss: 1.8435\n",
            "Epoch [9/10], Loss: 1.8361\n",
            "Epoch [10/10], Loss: 1.8263\n"
          ]
        }
      ],
      "source": [
        "#vanilla focal loss function\n",
        "for epochs in range(10):\n",
        "  model4.train()\n",
        "  total_loss = 0\n",
        "  for batch_idx, (inputs, target) in enumerate(noisy_train_loader):\n",
        "    optimizer4.zero_grad()\n",
        "    output = model4(inputs)\n",
        "    loss_4 = loss4(output, target)\n",
        "    loss_4.backward()\n",
        "    optimizer4.step()\n",
        "    total_loss += loss_4.item()\n",
        "  print(f\"Epoch [{epochs+1}/10], Loss: {total_loss/len(noisy_train_loader):.4f}\")\n"
      ]
    },
    {
      "cell_type": "code",
      "execution_count": null,
      "metadata": {
        "colab": {
          "base_uri": "https://localhost:8080/"
        },
        "id": "xiefJzxwZEUO",
        "outputId": "58cfeedd-c2c3-4606-b06f-ca4e89ea4447"
      },
      "outputs": [
        {
          "output_type": "stream",
          "name": "stdout",
          "text": [
            "Epoch [1/10], Loss: 1.1433\n",
            "Epoch [2/10], Loss: 1.1416\n",
            "Epoch [3/10], Loss: 1.1404\n",
            "Epoch [4/10], Loss: 1.1382\n",
            "Epoch [5/10], Loss: 1.1354\n",
            "Epoch [6/10], Loss: 1.1328\n",
            "Epoch [7/10], Loss: 1.1295\n",
            "Epoch [8/10], Loss: 1.1254\n",
            "Epoch [9/10], Loss: 1.1219\n",
            "Epoch [10/10], Loss: 1.1162\n"
          ]
        }
      ],
      "source": [
        "#normalised Cross Entropy loss Function\n",
        "for epochs in range(10):\n",
        "  model.train()\n",
        "  total_loss = 0\n",
        "  for batch_idx, (inputs, target) in enumerate(noisy_train_loader):\n",
        "    optimizer.zero_grad()\n",
        "    output = model(inputs)\n",
        "    loss_1 = loss1(output, target)\n",
        "    loss_1.backward()\n",
        "    optimizer.step()\n",
        "    total_loss += loss_1.item()\n",
        "  print(f\"Epoch [{epochs+1}/10], Loss: {total_loss/len(noisy_train_loader):.4f}\")\n"
      ]
    },
    {
      "cell_type": "code",
      "execution_count": null,
      "metadata": {
        "colab": {
          "base_uri": "https://localhost:8080/"
        },
        "id": "vv4OsH2cezZU",
        "outputId": "1a8ce37d-e364-4f3a-8eb6-97213a76933c"
      },
      "outputs": [
        {
          "output_type": "stream",
          "name": "stdout",
          "text": [
            "Epoch [1/10], Loss: 0.9266\n",
            "Epoch [2/10], Loss: 0.9249\n",
            "Epoch [3/10], Loss: 0.9232\n",
            "Epoch [4/10], Loss: 0.9219\n",
            "Epoch [5/10], Loss: 0.9206\n",
            "Epoch [6/10], Loss: 0.9194\n",
            "Epoch [7/10], Loss: 0.9179\n",
            "Epoch [8/10], Loss: 0.9162\n",
            "Epoch [9/10], Loss: 0.9145\n",
            "Epoch [10/10], Loss: 0.9128\n"
          ]
        }
      ],
      "source": [
        "#Training Normalised Focal Loss Model\n",
        "for epochs in range(10):\n",
        "  model1.train()\n",
        "  total_loss1 = 0\n",
        "  for batch_idx, (inputs, target) in enumerate(noisy_train_loader):\n",
        "    optimizer1.zero_grad()\n",
        "    output1 = model1(inputs)\n",
        "    loss_2 = loss2(output1, target)\n",
        "    loss_2.backward()\n",
        "    optimizer1.step()\n",
        "    total_loss1 += loss_2.item()\n",
        "  print(f\"Epoch [{epochs+1}/10], Loss: {total_loss1/len(noisy_train_loader):.4f}\")"
      ]
    },
    {
      "cell_type": "code",
      "execution_count": null,
      "metadata": {
        "colab": {
          "base_uri": "https://localhost:8080/"
        },
        "id": "I0ktSgn4fF0C",
        "outputId": "0f76846f-ec02-4ea4-a4e6-ed17c48e2347"
      },
      "outputs": [
        {
          "output_type": "stream",
          "name": "stdout",
          "text": [
            "Epoch [1/10], Loss: 2.4173\n",
            "Epoch [2/10], Loss: 2.4145\n",
            "Epoch [3/10], Loss: 2.4128\n",
            "Epoch [4/10], Loss: 2.4096\n",
            "Epoch [5/10], Loss: 2.4070\n",
            "Epoch [6/10], Loss: 2.4043\n",
            "Epoch [7/10], Loss: 2.4003\n",
            "Epoch [8/10], Loss: 2.3953\n",
            "Epoch [9/10], Loss: 2.3900\n",
            "Epoch [10/10], Loss: 2.3796\n"
          ]
        }
      ],
      "source": [
        "for epochs in range(10):\n",
        "  model2.train()\n",
        "  total_loss = 0\n",
        "  for batch_idx, (inputs, target) in enumerate(noisy_train_loader):\n",
        "    optimizer2.zero_grad()\n",
        "    output = model2(inputs)\n",
        "    loss_APL = 0.1*loss1(output, target) + loss5(output, target)\n",
        "    loss_APL.backward()\n",
        "    optimizer2.step()\n",
        "    total_loss += loss_APL.item()\n",
        "  print(f\"Epoch [{epochs+1}/10], Loss: {total_loss/len(noisy_train_loader):.4f}\")"
      ]
    },
    {
      "cell_type": "code",
      "execution_count": null,
      "metadata": {
        "id": "x7MmYxtcbXI4"
      },
      "outputs": [],
      "source": [
        "def evaluate_model(model, test_loader):\n",
        "    model.eval()\n",
        "    correct = 0\n",
        "    total = 0\n",
        "\n",
        "    with torch.no_grad():\n",
        "        for images, labels in test_loader:\n",
        "            outputs = model(images)\n",
        "            _, predicted = torch.max(outputs, 1)\n",
        "            correct += (predicted == labels).sum().item()  # Count correct predictions\n",
        "            total += labels.size(0)  # Total samples\n",
        "\n",
        "    return correct / total\n"
      ]
    },
    {
      "cell_type": "code",
      "execution_count": null,
      "metadata": {
        "colab": {
          "base_uri": "https://localhost:8080/",
          "height": 468
        },
        "id": "_QEjY0VKbaI_",
        "outputId": "1285b362-29c9-4c80-8789-378f55d5800e"
      },
      "outputs": [
        {
          "output_type": "display_data",
          "data": {
            "text/plain": [
              "<Figure size 800x500 with 1 Axes>"
            ],
            "image/png": "[encoded data removed]"
          },
          "metadata": {}
        }
      ],
      "source": [
        "model_names = [\"NCE\", \"NFL\", \"NCE+RCE\", \"CE\", \"FL\"]\n",
        "models = [model, model1, model2, model3, model4]\n",
        "accuracies = [evaluate_model(m, test_loader) for m in models]\n",
        "\n",
        "# Plot accuracy comparison\n",
        "plt.figure(figsize=(8, 5))\n",
        "plt.bar(model_names, accuracies, color=[\"red\", \"blue\", \"green\", \"purple\", \"orange\"])\n",
        "plt.ylabel(\"Accuracy\")\n",
        "plt.title(\"Model Accuracy on Clean CIFAR-10 Test Set\")\n",
        "plt.ylim(0, 1)\n",
        "for i, acc in enumerate(accuracies):\n",
        "    plt.text(i, acc, f\"{acc:.2%}\", ha='center', va='bottom', fontsize=12)\n",
        "\n",
        "plt.show()"
      ]
    },
    {
      "cell_type": "markdown",
      "metadata": {
        "id": "SGRB-iziJuZX"
      },
      "source": [
        "\n",
        "> Add blockquote\n",
        "\n"
      ]
    },
    {
      "cell_type": "code",
      "execution_count": null,
      "metadata": {
        "id": "dh-RyDlbgLiK"
      },
      "outputs": [],
      "source": []
    }
  ],
  "metadata": {
    "colab": {
      "provenance": [],
      "authorship_tag": "ABX9TyMULq6JDvz3Obv7qjXczOJV",
      "include_colab_link": true
    },
    "kernelspec": {
      "display_name": "Python 3",
      "name": "python3"
    },
    "language_info": {
      "name": "python"
    }
  },
  "nbformat": 4,
  "nbformat_minor": 0
}